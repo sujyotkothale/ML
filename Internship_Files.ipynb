{
  "nbformat": 4,
  "nbformat_minor": 0,
  "metadata": {
    "colab": {
      "provenance": []
    },
    "kernelspec": {
      "name": "python3",
      "display_name": "Python 3"
    },
    "language_info": {
      "name": "python"
    }
  },
  "cells": [
    {
      "cell_type": "markdown",
      "source": [
        "Find s"
      ],
      "metadata": {
        "id": "qfabMICg7t0V"
      }
    },
    {
      "cell_type": "code",
      "execution_count": 1,
      "metadata": {
        "colab": {
          "base_uri": "https://localhost:8080/"
        },
        "id": "ZVji_1F65v5w",
        "outputId": "8b67bfea-9b9f-448e-e116-6cea98c4ef1a"
      },
      "outputs": [
        {
          "output_type": "stream",
          "name": "stdout",
          "text": [
            "Mounted at /content/drive\n",
            "['Sunny', 'Warm', '?', 'Strong', '?', '?']\n"
          ]
        }
      ],
      "source": [
        "import pandas as pd\n",
        "import numpy as np\n",
        "\n",
        "from google.colab import drive\n",
        "drive.mount('/content/drive')\n",
        "\n",
        "dataset = pd.read_csv(\"/content/drive/MyDrive/ML_lab/ENJOYSPORT.csv\")\n",
        "\n",
        "def MatchHypothesis(x,h):\n",
        "    flag = False\n",
        "    new = [m for m in x]\n",
        "    for i in range(len(x)):\n",
        "        if h[i] == '#':\n",
        "            new[i] = x[i]\n",
        "            flag = False\n",
        "        elif h[i] != x[i]:\n",
        "            new[i] = '?'\n",
        "            flag = False\n",
        "        else:\n",
        "            pass\n",
        "    return flag,new\n",
        "\n",
        "H = [\n",
        "    ['#','#','#','#','#','#']\n",
        "]\n",
        "\n",
        "H_index = 0\n",
        "\n",
        "for i in range(len(dataset)):\n",
        "    x = list(dataset.iloc[i])\n",
        "    if x[len(x)-1] == 1:\n",
        "        x = x[:-1]\n",
        "        flag,new = MatchHypothesis(x,H[H_index])\n",
        "        if not flag:\n",
        "            H.append(new)\n",
        "            H_index += 1\n",
        "print(H[H_index])"
      ]
    },
    {
      "cell_type": "markdown",
      "source": [
        "Candidate Elimination Algorithm"
      ],
      "metadata": {
        "id": "8YNugY-38TLT"
      }
    },
    {
      "cell_type": "code",
      "source": [
        "import pandas as pd\n",
        "import numpy as np\n",
        "dataset = pd.read_csv(\"/content/drive/MyDrive/ML_lab/ENJOYSPORT.csv\")\n",
        "\n",
        "def MatchSpecific(x,h):\n",
        "    flag = False\n",
        "    new = [m for m in x]\n",
        "    for i in range(len(x)):\n",
        "        if h[i] == '#':\n",
        "            new[i] = x[i]\n",
        "            flag = False\n",
        "        elif h[i] != x[i]:\n",
        "            new[i] = '?'\n",
        "            flag = False\n",
        "        else:\n",
        "            pass\n",
        "    return new\n",
        "\n",
        "def Check(x,h):\n",
        "    for i in range(len(x)):\n",
        "        if h[i] == '?':\n",
        "            continue\n",
        "        elif x[i] != h[i]:\n",
        "            return True\n",
        "    return False\n",
        "\n",
        "def MatchGeneral(x,h,s):\n",
        "    # x is instance\n",
        "    # h is hypothesis\n",
        "    # s is specific hypothesis\n",
        "    flag = False\n",
        "    hypo = []\n",
        "    for h1 in h:\n",
        "        if Check(x,h1):\n",
        "            hypo.append(h1)\n",
        "            flag = True\n",
        "    if flag:\n",
        "        return hypo\n",
        "    new = []\n",
        "    for h1 in h:\n",
        "        for attr in range(len(x)):\n",
        "            if s[attr] == x[attr]:\n",
        "                continue\n",
        "            if h1[attr] == '?' and s[attr] != '?':\n",
        "                temp = [m for m in h1]\n",
        "                temp[attr] = s[attr]\n",
        "                new.append(temp)\n",
        "        return new\n",
        "def MatchG(x,h):\n",
        "    flag = False\n",
        "    hypo = []\n",
        "    for h1 in h:\n",
        "        if not Check(x,h1):\n",
        "            hypo.append(h1)\n",
        "            flag = True\n",
        "    if flag:\n",
        "        return hypo\n",
        "\n",
        "def Candidate(g,s):\n",
        "    candidate = []\n",
        "    candidate.append(s)\n",
        "    i =[]\n",
        "    for x in range(len(s)):\n",
        "        if s[x] != '?':\n",
        "            i.append(x)\n",
        "    lst = []\n",
        "    for x in i:\n",
        "        temp = [m for m in s]\n",
        "        temp[x] = '?'\n",
        "        lst.append(temp)\n",
        "    candidate.append(lst)\n",
        "    candidate.append(g)\n",
        "    return candidate\n",
        "\n",
        "S = [\n",
        "    ['#','#','#','#','#','#']\n",
        "]\n",
        "S_index = 0\n",
        "\n",
        "G = [\n",
        "    [['?','?','?','?','?','?']]\n",
        "]\n",
        "\n",
        "G_index = 0\n",
        "\n",
        "for i in range(len(dataset)):\n",
        "    x = list(dataset.iloc[i])\n",
        "    if x[len(x)-1] == 1:\n",
        "        x = x[:-1]\n",
        "        new = MatchSpecific(x,S[S_index])\n",
        "        S.append(new)\n",
        "        S_index += 1\n",
        "        new = MatchG(x,G[G_index])\n",
        "        G.append(new)\n",
        "        G_index += 1\n",
        "    else:\n",
        "        x = x[:-1]\n",
        "        new = MatchGeneral(x,G[G_index],S[S_index])\n",
        "        G.append(new)\n",
        "        G_index += 1\n",
        "\n",
        "print(\"Specific Hypothesis\")\n",
        "for x in S:\n",
        "    print(x)\n",
        "print(\"...............\")\n",
        "print(\"General Hypothesis\")\n",
        "for x in G:\n",
        "    print(x)\n",
        "\n",
        "print(\".............\")\n",
        "print(\"Final Hypothesis\")\n",
        "c = Candidate(G[G_index],S[S_index])\n",
        "for x in c:\n",
        "    print(x)"
      ],
      "metadata": {
        "colab": {
          "base_uri": "https://localhost:8080/"
        },
        "id": "kX4dY5ls8V72",
        "outputId": "6d91c147-8b7c-4137-c13f-c81cf131447e"
      },
      "execution_count": 2,
      "outputs": [
        {
          "output_type": "stream",
          "name": "stdout",
          "text": [
            "Specific Hypothesis\n",
            "['#', '#', '#', '#', '#', '#']\n",
            "['Sunny', 'Warm', 'Normal', 'Strong', 'Warm', 'Same']\n",
            "['Sunny', 'Warm', '?', 'Strong', 'Warm', 'Same']\n",
            "['Sunny', 'Warm', '?', 'Strong', '?', '?']\n",
            "...............\n",
            "General Hypothesis\n",
            "[['?', '?', '?', '?', '?', '?']]\n",
            "[['?', '?', '?', '?', '?', '?']]\n",
            "[['?', '?', '?', '?', '?', '?']]\n",
            "[['Sunny', '?', '?', '?', '?', '?'], ['?', 'Warm', '?', '?', '?', '?'], ['?', '?', '?', '?', '?', 'Same']]\n",
            "[['Sunny', '?', '?', '?', '?', '?'], ['?', 'Warm', '?', '?', '?', '?']]\n",
            ".............\n",
            "Final Hypothesis\n",
            "['Sunny', 'Warm', '?', 'Strong', '?', '?']\n",
            "[['?', 'Warm', '?', 'Strong', '?', '?'], ['Sunny', '?', '?', 'Strong', '?', '?'], ['Sunny', 'Warm', '?', '?', '?', '?']]\n",
            "[['Sunny', '?', '?', '?', '?', '?'], ['?', 'Warm', '?', '?', '?', '?']]\n"
          ]
        }
      ]
    },
    {
      "cell_type": "markdown",
      "source": [
        "linear regression"
      ],
      "metadata": {
        "id": "Ms7z2q158qBc"
      }
    },
    {
      "cell_type": "code",
      "source": [
        "X = [5.0,5.1,5.2,5.3,5.4,5.5,5.6,5.7,5.8]\n",
        "Y = [53,55,59,61,65,68,70,74,76]\n",
        "\n",
        "class LR:\n",
        "    def __init__(self,Xdata,Ydata):\n",
        "        self.X = Xdata\n",
        "        self.Y = Ydata\n",
        "        self.X_ = sum(X)/len(X)\n",
        "        self.Y_ = sum(Y)/len(Y)\n",
        "        self.CreateW()\n",
        "    def CreateW(self):\n",
        "        self.w1 = 0\n",
        "        self.num = 0\n",
        "        self.den = 0\n",
        "        for i in range(len(self.X)):\n",
        "            self.num += (self.X[i] - self.X_)*(self.Y[i] - self.Y_)\n",
        "            self.den += (self.X[i] - self.X_)*(self.X[i] - self.X_)\n",
        "        self.w1 = self.num/self.den\n",
        "        self.w0 = self.Y_ - self.w1*self.X_\n",
        "    def Predict(self,X):\n",
        "        return self.w1*X+self.w0\n",
        "    def getw1(self):\n",
        "        return self.w1\n",
        "    def getw0(self):\n",
        "        return self.w0\n",
        "lr = LR(X,Y)\n",
        "print(\"Equation =>  Y = {:2}*X + {:2}\".format(lr.getw1(),lr.getw0()))\n",
        "Predy = [lr.Predict(i) for i in X]\n",
        "import matplotlib.pyplot as plt\n",
        "plt.title(\"Plot for Linear Regression\")\n",
        "plt.plot(X,Predy,\"r\")\n",
        "plt.scatter(X,Y)\n",
        "plt.xlabel(\"Height\")\n",
        "plt.ylabel(\"Weight\")\n",
        "plt.show()"
      ],
      "metadata": {
        "colab": {
          "base_uri": "https://localhost:8080/",
          "height": 489
        },
        "id": "LB4JT7JM8tMR",
        "outputId": "04b50750-f1e0-4dd2-dd5b-fd7d8866de9e"
      },
      "execution_count": 3,
      "outputs": [
        {
          "output_type": "stream",
          "name": "stdout",
          "text": [
            "Equation =>  Y = 29.666666666666668*X + -95.64444444444446\n"
          ]
        },
        {
          "output_type": "display_data",
          "data": {
            "text/plain": [
              "<Figure size 640x480 with 1 Axes>"
            ],
            "image/png": "[encoded data removed]"
          },
          "metadata": {}
        }
      ]
    },
    {
      "cell_type": "markdown",
      "source": [
        "KNN"
      ],
      "metadata": {
        "id": "EzwB41E59DAp"
      }
    },
    {
      "cell_type": "code",
      "source": [
        "# Regression\n",
        "import pandas as pd\n",
        "import math\n",
        "\n",
        "length = [10.0, 11.0, 12.0, 7.0, 9.0, 8.0,6.0,15.0,14.0,7.0,10.0,13.0,9.0,5.0,5.0]\n",
        "weight = [15.0, 6.0 , 14.0 , 9.0 ,14.0,12.0,11.0,10.0,8.0,12.0,6.0,8.0,7.0,8.0,10.0]\n",
        "cost = [45,37,48,33,38,40,35,50,46,35,36,44,32,30,30]\n",
        "\n",
        "test = [7.0,8.0]\n",
        "data = []\n",
        "\n",
        "for i in range(len(length)):\n",
        "    data.append([length[i],weight[i],cost[i]])\n",
        "\n",
        "dataset = pd.DataFrame(data,columns=[\"Length\",\"Weight\",\"Cost\"])\n",
        "\n",
        "def Predict(dataset,test,k):\n",
        "    lst = []\n",
        "    for i in range(len(dataset)):\n",
        "        val = math.sqrt(math.pow((dataset.iloc[i][\"Length\"] - test[0]),2) + math.pow((dataset.iloc[i][\"Weight\"] - test[1]),2))\n",
        "        lst.append((val,dataset.iloc[i][\"Cost\"]))\n",
        "    lst.sort(key=lambda x:x[0])\n",
        "    cost = 0\n",
        "    for i in range(k):\n",
        "        cost += lst[i][1]\n",
        "    return cost/k\n",
        "\n",
        "print(\"Prediction of cost for length = 7 and weight = 8 is {} for k = 9\".format(Predict(dataset,test,9)))"
      ],
      "metadata": {
        "colab": {
          "base_uri": "https://localhost:8080/"
        },
        "id": "tq1vltIx9Cnd",
        "outputId": "f0092eb6-f70d-4e7d-eef0-85e60adbd3d3"
      },
      "execution_count": 4,
      "outputs": [
        {
          "output_type": "stream",
          "name": "stdout",
          "text": [
            "Prediction of cost for length = 7 and weight = 8 is 34.22222222222222 for k = 9\n"
          ]
        }
      ]
    },
    {
      "cell_type": "code",
      "source": [
        "# Classification\n",
        "import numpy as np\n",
        "import pandas as pd\n",
        "from sklearn.model_selection import train_test_split\n",
        "from sklearn.metrics import accuracy_score, classification_report, confusion_matrix\n",
        "import math\n",
        "data = pd.read_csv(\"/content/drive/MyDrive/ML_lab/Iris.csv\")\n",
        "\n",
        "Y = data['Species']\n",
        "X = data[['SepalLengthCm', 'SepalWidthCm', 'PetalLengthCm', 'PetalWidthCm']]\n",
        "X_train, X_test, y_train, y_test = train_test_split(X,Y,test_size=0.3)\n",
        "def Classify(dataset,target,test,k):\n",
        "    lst = []\n",
        "    for i in range(len(dataset)):\n",
        "        val = math.sqrt(math.pow((dataset.iloc[i][\"SepalLengthCm\"] - test[\"SepalLengthCm\"]),2) + math.pow((dataset.iloc[i][\"SepalWidthCm\"] - test[\"SepalWidthCm\"]),2) + math.pow((dataset.iloc[i][\"PetalLengthCm\"] - test[\"PetalLengthCm\"]),2) + math.pow((dataset.iloc[i][\"PetalWidthCm\"] - test[\"PetalWidthCm\"]),2))\n",
        "        lst.append((val,target.iloc[i]))\n",
        "    lst.sort(key=lambda x:x[0])\n",
        "    isan = 0\n",
        "    ivp = 0\n",
        "    iver = 0\n",
        "    for i in range(k):\n",
        "        if lst[i][1] == \"Iris-setosa\":\n",
        "            isan +=1\n",
        "        elif lst[i][1] == \"Iris-versicolor\":\n",
        "            ivp +=1\n",
        "        else:\n",
        "            iver += 1\n",
        "\n",
        "    if isan >= ivp and isan >= iver:\n",
        "        return \"Iris-setosa\"\n",
        "    elif ivp >= isan and ivp >= iver:\n",
        "        return \"Iris-versicolor\"\n",
        "    else:\n",
        "        return \"Iris-virginica\"\n",
        "\n",
        "y_pred = []\n",
        "for x in range(len(X_test)):\n",
        "    y_pred.append(Classify(X_train,y_train,X_test.iloc[x],3))\n",
        "\n",
        "accuracy = accuracy_score(y_test, y_pred)\n",
        "print(f\"Accuracy: {accuracy * 100 :.2f}%\")\n",
        "\n",
        "print(\"Classification Report:\")\n",
        "print(classification_report(y_test, y_pred))\n",
        "\n",
        "print(\"Confusion Matrix:\")\n",
        "print(confusion_matrix(y_test, y_pred))\n",
        "\n"
      ],
      "metadata": {
        "colab": {
          "base_uri": "https://localhost:8080/"
        },
        "id": "vBvrNv5I9Yr4",
        "outputId": "abbb574b-d251-445f-cad4-5562f9db3494"
      },
      "execution_count": 6,
      "outputs": [
        {
          "output_type": "stream",
          "name": "stdout",
          "text": [
            "Accuracy: 95.56%\n",
            "Classification Report:\n",
            "                 precision    recall  f1-score   support\n",
            "\n",
            "    Iris-setosa       1.00      1.00      1.00        17\n",
            "Iris-versicolor       1.00      0.86      0.92        14\n",
            " Iris-virginica       0.88      1.00      0.93        14\n",
            "\n",
            "       accuracy                           0.96        45\n",
            "      macro avg       0.96      0.95      0.95        45\n",
            "   weighted avg       0.96      0.96      0.96        45\n",
            "\n",
            "Confusion Matrix:\n",
            "[[17  0  0]\n",
            " [ 0 12  2]\n",
            " [ 0  0 14]]\n"
          ]
        }
      ]
    },
    {
      "cell_type": "markdown",
      "source": [
        "Decision Tree"
      ],
      "metadata": {
        "id": "UvCBgKci9YaR"
      }
    },
    {
      "cell_type": "code",
      "source": [
        "from google.colab import drive\n",
        "drive.mount('/content/drive')\n",
        "import pandas as pd\n",
        "from collections import Counter\n",
        "data = pd.read_csv('/content/drive/MyDrive/AI/tennis.csv')\n",
        "import math\n",
        "def Entropy_dataset(data):\n",
        "    totalValues = data.shape[0]\n",
        "    values = Counter(data['play'].tolist())\n",
        "    ans = 0\n",
        "    for x in values.values():\n",
        "        ans -= (x/totalValues) * math.log(x/totalValues,2)\n",
        "    return ans,values\n",
        "\n",
        "def Entropy(data,attribute=-1):\n",
        "    totalValues = data.shape[0]\n",
        "    values = Counter(data[attribute].tolist())\n",
        "    lst = []\n",
        "    for x,y in values.items():\n",
        "        filter = data[data[attribute] == x]\n",
        "        filterdata = Counter(filter['play'].tolist())\n",
        "        ans = 0\n",
        "        for m in filterdata.values():\n",
        "            ans -= (m/y) * math.log(m/y,2)\n",
        "        lst.append((x,y,ans))\n",
        "    ans = 0\n",
        "    #print(lst)\n",
        "    for x,y,z in lst:\n",
        "        ans -= (y/totalValues) * z\n",
        "    return ans,lst,values\n",
        "def Gain(data,attribute):\n",
        "    v1,val = Entropy_dataset(data)\n",
        "    v2,lst,val = Entropy(data,attribute)\n",
        "    return v1 + v2\n",
        "def FindRoot(data,classification):\n",
        "    attributes = data.columns.tolist()\n",
        "    attributes.remove(classification)\n",
        "    lst = []\n",
        "    for x in attributes:\n",
        "        lst.append((x,Gain(data,x)))\n",
        "    lst.sort(key = lambda x:x[1],reverse = True)\n",
        "    return lst[0]\n",
        "\n",
        "e,val = Entropy_dataset(data)\n",
        "print(val)\n",
        "print(\"Entropy of entire dataset = \",e)\n",
        "\n",
        "e,lst,val = Entropy(data,'outlook')\n",
        "print(\"-- Outlook --\")\n",
        "for x in lst:\n",
        "    print(\" * \",x)\n",
        "print(\"Entropy of outlook = \",e)\n",
        "print()\n",
        "e,lst,val = Entropy(data,'temp')\n",
        "print(\"-- Temp --\")\n",
        "for x in lst:\n",
        "    print(\" * \",x)\n",
        "print(\"Entropy of Temp = \",e)\n",
        "print()\n",
        "e,lst,val = Entropy(data,'humidity')\n",
        "print(\"-- Humidity --\")\n",
        "for x in lst:\n",
        "    print(\" * \",x)\n",
        "print(\"Entropy of humidity = \",e)\n",
        "print()\n",
        "e,lst,val = Entropy(data,'windy')\n",
        "print(\"-- Windy --\")\n",
        "for x in lst:\n",
        "    print(\" * \",x)\n",
        "print(\"Entropy of windy = \",e)\n",
        "\n",
        "\n",
        "\n",
        "g = Gain(data,'outlook')\n",
        "print(\"Gain of outlook = \",g)\n",
        "g = Gain(data,'temp')\n",
        "print(\"Gain of temp = \",g)\n",
        "g = Gain(data,'humidity')\n",
        "print(\"Gain of humidity = \",g)\n",
        "g = Gain(data,'windy')\n",
        "print(\"Gain of windy = \",g)\n",
        "\n",
        "\n",
        "root = FindRoot(data,'play')\n",
        "print(\"Root = \",root[0])\n",
        "print(\"Gain of root = \",root[1])"
      ],
      "metadata": {
        "colab": {
          "base_uri": "https://localhost:8080/"
        },
        "id": "VAvTy-a1-zwX",
        "outputId": "efb6d1a8-b3fa-40b5-ab7f-604f7ab16f21"
      },
      "execution_count": 7,
      "outputs": [
        {
          "output_type": "stream",
          "name": "stdout",
          "text": [
            "Drive already mounted at /content/drive; to attempt to forcibly remount, call drive.mount(\"/content/drive\", force_remount=True).\n",
            "Counter({'yes': 9, 'no': 5})\n",
            "Entropy of entire dataset =  0.9402859586706309\n",
            "-- Outlook --\n",
            " *  ('sunny', 5, 0.9709505944546686)\n",
            " *  ('overcast', 4, 0.0)\n",
            " *  ('rainy', 5, 0.9709505944546686)\n",
            "Entropy of outlook =  -0.6935361388961918\n",
            "\n",
            "-- Temp --\n",
            " *  ('hot', 4, 1.0)\n",
            " *  ('mild', 6, 0.9182958340544896)\n",
            " *  ('cool', 4, 0.8112781244591328)\n",
            "Entropy of Temp =  -0.9110633930116763\n",
            "\n",
            "-- Humidity --\n",
            " *  ('high', 7, 0.9852281360342516)\n",
            " *  ('normal', 7, 0.5916727785823275)\n",
            "Entropy of humidity =  -0.7884504573082896\n",
            "\n",
            "-- Windy --\n",
            " *  (False, 8, 0.8112781244591328)\n",
            " *  (True, 6, 1.0)\n",
            "Entropy of windy =  -0.8921589282623617\n",
            "Gain of outlook =  0.2467498197744391\n",
            "Gain of temp =  0.029222565658954647\n",
            "Gain of humidity =  0.15183550136234136\n",
            "Gain of windy =  0.04812703040826927\n",
            "Root =  outlook\n",
            "Gain of root =  0.2467498197744391\n"
          ]
        }
      ]
    },
    {
      "cell_type": "markdown",
      "source": [
        "Perceptron"
      ],
      "metadata": {
        "id": "flAbqweF_jzf"
      }
    },
    {
      "cell_type": "code",
      "source": [
        "import pandas as pd\n",
        "class Gate:\n",
        "    def __init__(self,data,epoch,lr):\n",
        "        self.lr = lr;\n",
        "        self.w = [0.0,0.0,0.0]\n",
        "        self.epochs = epoch\n",
        "        self.know = pd.DataFrame(data)\n",
        "        self.w = self.Train(self.know,self.w,self.epochs,self.lr)\n",
        "    def Train(self,data,w,epoch,lr):\n",
        "        for y in range(epoch):\n",
        "            for x in range(len(self.know)):\n",
        "                # Finding Output of the input\n",
        "                net = data.iloc[x][0]*w[0] + data.iloc[x][1]*w[1] + data.iloc[x][2]*w[2]\n",
        "                # finding the output\n",
        "                o = 1 if net > 0 else -1\n",
        "                # finding the difference between generated and actual output\n",
        "                w0 = data.iloc[x][2] - o\n",
        "                # Assigning new weights\n",
        "                nw = [lr*data.iloc[x][0]*w0 , lr*data.iloc[x][1]*w0 , lr*w0]\n",
        "                # Updating orignal weights\n",
        "                w[0] += nw[0]\n",
        "                w[1] += nw[1]\n",
        "                w[2] -= nw[2]\n",
        "        return w\n",
        "    def predict(self,inp1,inp2):\n",
        "        temp = self.w[0]*inp1 + self.w[1]*inp2\n",
        "        if temp <= self.w[2]:\n",
        "            return -1\n",
        "        else:\n",
        "            return 1\n",
        "# And gate\n",
        "import warnings\n",
        "warnings.simplefilter(\"ignore\", category=FutureWarning)\n",
        "data = {\n",
        "    \"x1\":[1,1,-1,-1],\n",
        "    \"x2\":[1,-1,1,-1],\n",
        "    \"out\":[1,-1,-1,-1]\n",
        "}\n",
        "MyGate = Gate(data,10,0.05)\n",
        "\n",
        "print(\"Output for -1,-1 : \",MyGate.predict(-1,-1))\n",
        "print(\"Output for 1,-1 : \",MyGate.predict(1,-1))\n",
        "print(\"Output for -1,1 : \",MyGate.predict(-1,1))\n",
        "print(\"Output for 1,1 : \",MyGate.predict(1,1))\n",
        "\n",
        "print(\"Weights = \",MyGate.w)"
      ],
      "metadata": {
        "colab": {
          "base_uri": "https://localhost:8080/"
        },
        "id": "YtYD2LTn_lCF",
        "outputId": "d2144dae-406c-4ec2-d1d4-01d59f0ae091"
      },
      "execution_count": 8,
      "outputs": [
        {
          "output_type": "stream",
          "name": "stdout",
          "text": [
            "Output for -1,-1 :  -1\n",
            "Output for 1,-1 :  -1\n",
            "Output for -1,1 :  -1\n",
            "Output for 1,1 :  1\n",
            "Weights =  [0.1, 0.1, 0.1]\n"
          ]
        }
      ]
    },
    {
      "cell_type": "markdown",
      "source": [
        "Neive bayes"
      ],
      "metadata": {
        "id": "yqvwjUlJCYd-"
      }
    },
    {
      "cell_type": "code",
      "source": [
        "from collections import Counter\n",
        "import pandas as pd\n",
        "data = pd.read_csv(\"/content/drive/MyDrive/AI/tennis.csv\")\n",
        "\n",
        "def createTables(data):\n",
        "    out = Counter(data['play'].tolist())\n",
        "    dic = {}\n",
        "    c = data.columns.tolist()\n",
        "    c.remove('play')\n",
        "    for x in c:\n",
        "        dic[x] = dict()\n",
        "        values = Counter(data[x].tolist())\n",
        "        for y in values:\n",
        "            if x == 'windy':\n",
        "                dic[x][y] = dict()\n",
        "                dic[x][y]['yes'] = len(data.query(\"{} == {} and play == \\\"yes\\\"\".format(x,y)))/out['yes']\n",
        "                dic[x][y]['no'] = len(data.query(\"{} == {} and play == \\\"no\\\"\".format(x,y)))/ out['no']\n",
        "\n",
        "            else:\n",
        "                dic[x][y] = dict()\n",
        "                dic[x][y]['yes'] = len(data.query(\"{} == \\\"{}\\\" and play == \\\"yes\\\"\".format(x,y)))/out['yes']\n",
        "                dic[x][y]['no'] = len(data.query(\"{} == \\\"{}\\\" and play == \\\"no\\\"\".format(x,y))) /out['no']\n",
        "    dic['play'] = dict()\n",
        "    dic['play']['yes']= out['yes']/(out['yes'] + out['no'])\n",
        "    dic['play']['no']= out['no']/(out['yes'] + out['no'])\n",
        "    return dic\n",
        "def predict(columns,dic,values):\n",
        "    sumy = 1\n",
        "    sumn = 1\n",
        "    for x in range(len(columns)-1):\n",
        "        sumy *= dic[columns[x]][values[x]]['yes']\n",
        "        sumn *= dic[columns[x]][values[x]]['no']\n",
        "    sumy *=  dic['play']['yes']\n",
        "    sumn *=  dic['play']['no']\n",
        "    print(\"Prosterior probablity of yes = \",sumy)\n",
        "    print(\"Prosterior probablity of no = \",sumn)\n",
        "    print(\"probablity of yes = \",sumy/(sumy+sumn))\n",
        "    print(\"probablity of no = \",sumn/(sumn+sumy))\n",
        "    print(\"Total = \",sumy/(sumy+sumn) +sumn/(sumn+sumy) )\n",
        "    return \"Yes\" if sumy/(sumy+sumn) > sumn/(sumn+sumy) else \"NO\"\n",
        "\n",
        "table = createTables(data)\n",
        "for x in table:\n",
        "    print(x,table[x])\n",
        "p = ['rainy','mild', 'normal', True]\n",
        "predict(data.columns,table,p)"
      ],
      "metadata": {
        "colab": {
          "base_uri": "https://localhost:8080/",
          "height": 229
        },
        "id": "u_9Y3ubACB34",
        "outputId": "5a166e81-7c5e-4b02-b12b-a63738805037"
      },
      "execution_count": 9,
      "outputs": [
        {
          "output_type": "stream",
          "name": "stdout",
          "text": [
            "outlook {'sunny': {'yes': 0.2222222222222222, 'no': 0.6}, 'overcast': {'yes': 0.4444444444444444, 'no': 0.0}, 'rainy': {'yes': 0.3333333333333333, 'no': 0.4}}\n",
            "temp {'hot': {'yes': 0.2222222222222222, 'no': 0.4}, 'mild': {'yes': 0.4444444444444444, 'no': 0.4}, 'cool': {'yes': 0.3333333333333333, 'no': 0.2}}\n",
            "humidity {'high': {'yes': 0.3333333333333333, 'no': 0.8}, 'normal': {'yes': 0.6666666666666666, 'no': 0.2}}\n",
            "windy {False: {'yes': 0.6666666666666666, 'no': 0.4}, True: {'yes': 0.3333333333333333, 'no': 0.6}}\n",
            "play {'yes': 0.6428571428571429, 'no': 0.35714285714285715}\n",
            "Prosterior probablity of yes =  0.021164021164021163\n",
            "Prosterior probablity of no =  0.006857142857142859\n",
            "probablity of yes =  0.755287009063444\n",
            "probablity of no =  0.24471299093655596\n",
            "Total =  1.0\n"
          ]
        },
        {
          "output_type": "execute_result",
          "data": {
            "text/plain": [
              "'Yes'"
            ],
            "application/vnd.google.colaboratory.intrinsic+json": {
              "type": "string"
            }
          },
          "metadata": {},
          "execution_count": 9
        }
      ]
    }
  ]
}